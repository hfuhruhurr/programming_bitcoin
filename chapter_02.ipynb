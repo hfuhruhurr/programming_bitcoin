{
 "cells": [
  {
   "cell_type": "code",
   "execution_count": 2,
   "metadata": {},
   "outputs": [],
   "source": [
    "from ecc import Point\n",
    "import pdb"
   ]
  },
  {
   "attachments": {},
   "cell_type": "markdown",
   "metadata": {},
   "source": [
    "### Example of `__init__`'s error trapping"
   ]
  },
  {
   "cell_type": "code",
   "execution_count": 3,
   "metadata": {},
   "outputs": [],
   "source": [
    "# p1 = Point(-1, -1, 5, 7)\n",
    "# p2 = Point(-1, -2, 5, 7)"
   ]
  },
  {
   "attachments": {},
   "cell_type": "markdown",
   "metadata": {},
   "source": [
    "### Exercise 1: Determine which of these points are on the curve $y^2 = x^3 + 5x + 7$.\n",
    "$$ (2,4), (-1, -1), (18, 77), (5, 7) $$"
   ]
  },
  {
   "cell_type": "code",
   "execution_count": 4,
   "metadata": {},
   "outputs": [],
   "source": [
    "a = 5\n",
    "b = 7\n",
    "x = 18\n",
    "y = 77\n",
    "p = Point(x, y, a, b)"
   ]
  },
  {
   "attachments": {},
   "cell_type": "markdown",
   "metadata": {},
   "source": [
    "Observation #1: (-1, -1) and (18, 77) are on the curve.  The other two are not.\n",
    "\n",
    "Observation #2: Though my above way works, it is inelegant compared to:"
   ]
  },
  {
   "cell_type": "code",
   "execution_count": 5,
   "metadata": {},
   "outputs": [],
   "source": [
    "def on_curve(x, y, a, b):\n",
    "\treturn y**2 == x**3 + a*x + b"
   ]
  },
  {
   "cell_type": "code",
   "execution_count": 6,
   "metadata": {},
   "outputs": [
    {
     "name": "stdout",
     "output_type": "stream",
     "text": [
      "False\n",
      "True\n",
      "True\n",
      "False\n"
     ]
    }
   ],
   "source": [
    "print(on_curve(2, 4, 5, 7))\n",
    "print(on_curve(-1, -1, 5, 7))\n",
    "print(on_curve(18, 77, 5, 7))\n",
    "print(on_curve(5, 7, 5, 7))"
   ]
  },
  {
   "attachments": {},
   "cell_type": "markdown",
   "metadata": {},
   "source": [
    "### Exercise 2: Code a `__ne__` method."
   ]
  },
  {
   "cell_type": "code",
   "execution_count": 7,
   "metadata": {},
   "outputs": [
    {
     "data": {
      "text/plain": [
       "True"
      ]
     },
     "execution_count": 7,
     "metadata": {},
     "output_type": "execute_result"
    }
   ],
   "source": [
    "p1 = Point(-1, -1, 5, 7)\n",
    "p2 = Point(18, 77, 5, 7)\n",
    "p1 != p2"
   ]
  },
  {
   "attachments": {},
   "cell_type": "markdown",
   "metadata": {},
   "source": [
    "### Exercise 3: Code the case where the two points are additive inverses."
   ]
  },
  {
   "attachments": {},
   "cell_type": "markdown",
   "metadata": {},
   "source": [
    "### Exercise 4: For the curve $y^2 = x^3 + 5x + 7$, what is $(2, 5) + (-1, -1)$?  (manual calc implied)"
   ]
  },
  {
   "cell_type": "code",
   "execution_count": 8,
   "metadata": {},
   "outputs": [
    {
     "data": {
      "text/plain": [
       "(3.0, -7.0)"
      ]
     },
     "execution_count": 8,
     "metadata": {},
     "output_type": "execute_result"
    }
   ],
   "source": [
    "a = 5\n",
    "b = 7\n",
    "x1, y1 = 2, 5\n",
    "x2, y2 = -1, -1\n",
    "\n",
    "slope = (y2 - y1)/(x2 - x1)\n",
    "x3 = slope**2 - x1 - x2\n",
    "y3 = slope*(x1 - x3) - y1\n",
    "(x3, y3)"
   ]
  },
  {
   "attachments": {},
   "cell_type": "markdown",
   "metadata": {},
   "source": [
    "### Exercise 5: Code an `__add__` method where $x_1 \\neq x_2$."
   ]
  },
  {
   "cell_type": "code",
   "execution_count": 9,
   "metadata": {},
   "outputs": [
    {
     "data": {
      "text/plain": [
       "The point is (3.0, -7.0)_5_7"
      ]
     },
     "execution_count": 9,
     "metadata": {},
     "output_type": "execute_result"
    }
   ],
   "source": [
    "Point(x1, y1, a, b) + Point(x2, y2, a, b)"
   ]
  },
  {
   "attachments": {},
   "cell_type": "markdown",
   "metadata": {},
   "source": [
    "### Exercise 6: For the curve $y^2 = x^3 + 5x + 7$, what is $(-1, -1) + (-1, 1)$?"
   ]
  },
  {
   "cell_type": "code",
   "execution_count": 10,
   "metadata": {},
   "outputs": [
    {
     "data": {
      "text/plain": [
       "(18.0, 77.0)"
      ]
     },
     "execution_count": 10,
     "metadata": {},
     "output_type": "execute_result"
    }
   ],
   "source": [
    "a = 5\n",
    "b = 7\n",
    "x1, y1 = -1, -1\n",
    "x2, y2 = -1, 1\n",
    "\n",
    "slope = (3*x1**2 + a)/(2*y1)\n",
    "x3 = slope**2 - 2*x1\n",
    "y3 = slope*(x1 - x3) - y1\n",
    "(x3, y3)"
   ]
  },
  {
   "attachments": {},
   "cell_type": "markdown",
   "metadata": {},
   "source": [
    "### Exercise 7: Code the `__add__` method where $P_1 = P_2$."
   ]
  },
  {
   "cell_type": "code",
   "execution_count": 11,
   "metadata": {},
   "outputs": [
    {
     "data": {
      "text/plain": [
       "The point is (18.0, 77.0)_5_7"
      ]
     },
     "execution_count": 11,
     "metadata": {},
     "output_type": "execute_result"
    }
   ],
   "source": [
    "Point(x1, y1, a, b) + Point(x1, y1, a, b)"
   ]
  },
  {
   "cell_type": "code",
   "execution_count": null,
   "metadata": {},
   "outputs": [],
   "source": []
  }
 ],
 "metadata": {
  "kernelspec": {
   "display_name": "venv",
   "language": "python",
   "name": "python3"
  },
  "language_info": {
   "codemirror_mode": {
    "name": "ipython",
    "version": 3
   },
   "file_extension": ".py",
   "mimetype": "text/x-python",
   "name": "python",
   "nbconvert_exporter": "python",
   "pygments_lexer": "ipython3",
   "version": "3.11.0"
  },
  "orig_nbformat": 4,
  "vscode": {
   "interpreter": {
    "hash": "edfa6eede2454c6db2bbf9be87cd6677a731d134901b169be1946e74825be87d"
   }
  }
 },
 "nbformat": 4,
 "nbformat_minor": 2
}
