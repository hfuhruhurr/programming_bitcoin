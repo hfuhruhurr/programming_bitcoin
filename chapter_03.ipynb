{
 "cells": [
  {
   "cell_type": "code",
   "execution_count": 1,
   "metadata": {},
   "outputs": [],
   "source": [
    "from ecc import FieldElement, Point, ECCTest\n",
    "from secret_helper import run "
   ]
  },
  {
   "attachments": {},
   "cell_type": "markdown",
   "metadata": {},
   "source": [
    "### Exercise 1: Evaluate whether these points are on the curve $y^2 = x^3 + 7$ over $F_{223}$."
   ]
  },
  {
   "cell_type": "code",
   "execution_count": 2,
   "metadata": {},
   "outputs": [],
   "source": [
    "def on_curve(x, y, a, b, prime):\n",
    "\treturn y**2 % prime == (x**3 + a*x + b) % prime"
   ]
  },
  {
   "cell_type": "code",
   "execution_count": 3,
   "metadata": {},
   "outputs": [
    {
     "name": "stdout",
     "output_type": "stream",
     "text": [
      "True\n",
      "True\n",
      "False\n",
      "True\n",
      "False\n"
     ]
    }
   ],
   "source": [
    "print(on_curve(192, 105, 0, 7, 223))\n",
    "print(on_curve(17, 56, 0, 7, 223))\n",
    "print(on_curve(200, 119, 0, 7, 223))\n",
    "print(on_curve(1, 193, 0, 7, 223))\n",
    "print(on_curve(42, 99, 0, 7, 223))"
   ]
  },
  {
   "attachments": {},
   "cell_type": "markdown",
   "metadata": {},
   "source": [
    "Quaint, but you should really use what you've already built, dummy:"
   ]
  },
  {
   "cell_type": "code",
   "execution_count": 4,
   "metadata": {},
   "outputs": [],
   "source": [
    "def on_curve2(x, y, a, b, prime):\n",
    "\tx = FieldElement(x, prime)\n",
    "\ty = FieldElement(y, prime)\n",
    "\ta = FieldElement(a, prime)\n",
    "\tb = FieldElement(b, prime)\n",
    "\treturn y**2 == x**3 + b"
   ]
  },
  {
   "cell_type": "code",
   "execution_count": 5,
   "metadata": {},
   "outputs": [
    {
     "name": "stdout",
     "output_type": "stream",
     "text": [
      "True\n",
      "True\n",
      "False\n",
      "True\n",
      "False\n"
     ]
    }
   ],
   "source": [
    "print(on_curve2(192, 105, 0, 7, 223))\n",
    "print(on_curve2(17, 56, 0, 7, 223))\n",
    "print(on_curve2(200, 119, 0, 7, 223))\n",
    "print(on_curve2(1, 193, 0, 7, 223))\n",
    "print(on_curve2(42, 99, 0, 7, 223))"
   ]
  },
  {
   "attachments": {},
   "cell_type": "markdown",
   "metadata": {},
   "source": [
    "### Run some tests."
   ]
  },
  {
   "cell_type": "code",
   "execution_count": 6,
   "metadata": {},
   "outputs": [
    {
     "name": "stderr",
     "output_type": "stream",
     "text": [
      ".\n",
      "----------------------------------------------------------------------\n",
      "Ran 1 test in 0.001s\n",
      "\n",
      "OK\n"
     ]
    }
   ],
   "source": [
    "test_name = 'test_on_curve'  # not necessary but helpful for my edification\n",
    "run(ECCTest(test_name))      # run() is in secret_helper.py, which is a bespoke Jimmy thing and not a PyPi thing"
   ]
  },
  {
   "attachments": {},
   "cell_type": "markdown",
   "metadata": {},
   "source": [
    "### Exercise 2: For the curve $y^2 = x^3 + 7$ over $F_{223}$, find some sums."
   ]
  },
  {
   "cell_type": "code",
   "execution_count": 7,
   "metadata": {},
   "outputs": [],
   "source": [
    "def sum_these_mutha_fuckahs(p1_raw, p2_raw):\n",
    "\tprime = 223\n",
    "\ta = FieldElement(0, prime)\n",
    "\tb = FieldElement(7, prime)\n",
    "\tx1 = FieldElement(p1_raw[0], prime) \n",
    "\ty1 = FieldElement(p1_raw[1], prime) \n",
    "\tx2 = FieldElement(p2_raw[0], prime) \n",
    "\ty2 = FieldElement(p2_raw[1], prime) \n",
    "\tp1 = Point(x1, y1, a, b)\n",
    "\tp2 = Point(x2, y2, a, b)\n",
    "\n",
    "\treturn (p1 + p2)"
   ]
  },
  {
   "cell_type": "code",
   "execution_count": 8,
   "metadata": {},
   "outputs": [
    {
     "name": "stdout",
     "output_type": "stream",
     "text": [
      "The point is (220, 181)_0_7\n",
      "The point is (215, 68)_0_7\n",
      "The point is (47, 71)_0_7\n"
     ]
    }
   ],
   "source": [
    "print(sum_these_mutha_fuckahs((170, 142), (60, 139)))\n",
    "print(sum_these_mutha_fuckahs((47, 71), (17, 56)))\n",
    "print(sum_these_mutha_fuckahs((143, 98), (76, 66)))"
   ]
  },
  {
   "attachments": {},
   "cell_type": "markdown",
   "metadata": {},
   "source": [
    "### Exercise 3: Extend `ECCTest` to test for the additions in Exercise 2.  Call this `test_add`."
   ]
  },
  {
   "cell_type": "code",
   "execution_count": 9,
   "metadata": {},
   "outputs": [
    {
     "name": "stderr",
     "output_type": "stream",
     "text": [
      ".\n",
      "----------------------------------------------------------------------\n",
      "Ran 1 test in 0.001s\n",
      "\n",
      "OK\n"
     ]
    }
   ],
   "source": [
    "test_name = 'test_add'\n",
    "run(ECCTest(test_name))"
   ]
  },
  {
   "attachments": {},
   "cell_type": "markdown",
   "metadata": {},
   "source": [
    "Outdated code in the book has prevented me from successfully running any test.  And I really ain't got time to figure this shit out when there's real stuff to learn. "
   ]
  },
  {
   "attachments": {},
   "cell_type": "markdown",
   "metadata": {},
   "source": [
    "### Exercise 4: (Implied brute force) For the curve $y^2 = x^3 + 7$ over $F_{223}$, find:\n",
    "* $2 \\cdot (192, 105)$\n",
    "* $2 \\cdot (143, 98)$\n",
    "* $2 \\cdot (47, 71)$\n",
    "* $4 \\cdot (47, 71)$\n",
    "* $8 \\cdot (47, 71)$\n",
    "* $21 \\cdot (47, 71)$\n",
    "\n"
   ]
  },
  {
   "cell_type": "code",
   "execution_count": 10,
   "metadata": {},
   "outputs": [
    {
     "name": "stdout",
     "output_type": "stream",
     "text": [
      "The point is (47, 71)_0_7 * 1 = The point is (47, 71)_0_7\n",
      "The point is (47, 71)_0_7 * 2 = The point is (36, 111)_0_7\n",
      "The point is (47, 71)_0_7 * 3 = The point is (15, 137)_0_7\n",
      "The point is (47, 71)_0_7 * 4 = The point is (194, 51)_0_7\n",
      "The point is (47, 71)_0_7 * 5 = The point is (126, 96)_0_7\n",
      "The point is (47, 71)_0_7 * 6 = The point is (139, 137)_0_7\n",
      "The point is (47, 71)_0_7 * 7 = The point is (92, 47)_0_7\n",
      "The point is (47, 71)_0_7 * 8 = The point is (116, 55)_0_7\n",
      "The point is (47, 71)_0_7 * 9 = The point is (69, 86)_0_7\n",
      "The point is (47, 71)_0_7 * 10 = The point is (154, 150)_0_7\n",
      "The point is (47, 71)_0_7 * 11 = The point is (154, 73)_0_7\n",
      "The point is (47, 71)_0_7 * 12 = The point is (69, 137)_0_7\n",
      "The point is (47, 71)_0_7 * 13 = The point is (116, 168)_0_7\n",
      "The point is (47, 71)_0_7 * 14 = The point is (92, 176)_0_7\n",
      "The point is (47, 71)_0_7 * 15 = The point is (139, 86)_0_7\n",
      "The point is (47, 71)_0_7 * 16 = The point is (126, 127)_0_7\n",
      "The point is (47, 71)_0_7 * 17 = The point is (194, 172)_0_7\n",
      "The point is (47, 71)_0_7 * 18 = The point is (15, 86)_0_7\n",
      "The point is (47, 71)_0_7 * 19 = The point is (36, 112)_0_7\n",
      "The point is (47, 71)_0_7 * 20 = The point is (47, 152)_0_7\n",
      "The point is (47, 71)_0_7 * 21 = The point is (None, None)_0_7\n"
     ]
    }
   ],
   "source": [
    "# points_raw = [(192, 105), (143, 98), (47, 71), (47, 71), (47, 71), (47, 71)]\n",
    "# scalars = [2, 2, 2, 4, 8, 21]\n",
    "\n",
    "point_raw = (47, 71)\n",
    "x = FieldElement(point_raw[0], 223)\n",
    "y = FieldElement(point_raw[1], 223)\n",
    "a = FieldElement(0, 223)\n",
    "b = FieldElement(7, 223)\n",
    "\n",
    "p = Point(x, y, a, b)\n",
    "\n",
    "dude_sum = p \n",
    "print(f'{p} * 1 = {dude_sum}')\n",
    "\n",
    "for i in range(2, 22):\n",
    "\tdude_sum += p \n",
    "\tprint(f'{p} * {i} = {dude_sum}')\n",
    "\t\n"
   ]
  },
  {
   "attachments": {},
   "cell_type": "markdown",
   "metadata": {},
   "source": [
    "### Exercise 5: For the curve $y^2 = x^3 + 7$ over $F_{223}$, find the order the group generated by $(15,86)$."
   ]
  },
  {
   "attachments": {},
   "cell_type": "markdown",
   "metadata": {},
   "source": [
    "_Order_ is the number of times you can add a point to itself until you hit the _point at infinity_.\n",
    "\n",
    "Using the code above, the _order_ is 7."
   ]
  },
  {
   "cell_type": "code",
   "execution_count": 11,
   "metadata": {},
   "outputs": [
    {
     "name": "stdout",
     "output_type": "stream",
     "text": [
      "The point is (15, 86)_0_7\n",
      "The point is (139, 86)_0_7\n",
      "The point is (139, 86)_0_7\n"
     ]
    }
   ],
   "source": [
    "x = FieldElement(15, 223)\n",
    "y = FieldElement(86, 223)\n",
    "a = FieldElement(0, 223)\n",
    "b = FieldElement(7, 223)\n",
    "\n",
    "p = Point(x, y, a, b)\n",
    "\n",
    "print(p)\n",
    "print(p + p)\n",
    "print(2 * p)"
   ]
  },
  {
   "cell_type": "code",
   "execution_count": null,
   "metadata": {},
   "outputs": [],
   "source": []
  }
 ],
 "metadata": {
  "kernelspec": {
   "display_name": "venv",
   "language": "python",
   "name": "python3"
  },
  "language_info": {
   "codemirror_mode": {
    "name": "ipython",
    "version": 3
   },
   "file_extension": ".py",
   "mimetype": "text/x-python",
   "name": "python",
   "nbconvert_exporter": "python",
   "pygments_lexer": "ipython3",
   "version": "3.11.0"
  },
  "orig_nbformat": 4,
  "vscode": {
   "interpreter": {
    "hash": "edfa6eede2454c6db2bbf9be87cd6677a731d134901b169be1946e74825be87d"
   }
  }
 },
 "nbformat": 4,
 "nbformat_minor": 2
}
