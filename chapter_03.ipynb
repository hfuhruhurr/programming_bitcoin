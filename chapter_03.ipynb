{
 "cells": [
  {
   "cell_type": "code",
   "execution_count": 1,
   "metadata": {},
   "outputs": [],
   "source": [
    "from ecc import FieldElement, Point, ECCTest\n",
    "from secret_helper import run "
   ]
  },
  {
   "attachments": {},
   "cell_type": "markdown",
   "metadata": {},
   "source": [
    "### Exercise 1: Evaluate whether these points are on the curve $y^2 = x^3 + 7$ over $F_{223}$."
   ]
  },
  {
   "cell_type": "code",
   "execution_count": 2,
   "metadata": {},
   "outputs": [],
   "source": [
    "def on_curve(x, y, a, b, prime):\n",
    "\treturn y**2 % prime == (x**3 + a*x + b) % prime"
   ]
  },
  {
   "cell_type": "code",
   "execution_count": 3,
   "metadata": {},
   "outputs": [
    {
     "name": "stdout",
     "output_type": "stream",
     "text": [
      "True\n",
      "True\n",
      "False\n",
      "True\n",
      "False\n"
     ]
    }
   ],
   "source": [
    "print(on_curve(192, 105, 0, 7, 223))\n",
    "print(on_curve(17, 56, 0, 7, 223))\n",
    "print(on_curve(200, 119, 0, 7, 223))\n",
    "print(on_curve(1, 193, 0, 7, 223))\n",
    "print(on_curve(42, 99, 0, 7, 223))"
   ]
  },
  {
   "attachments": {},
   "cell_type": "markdown",
   "metadata": {},
   "source": [
    "Quaint, but you should really use what you've already built, dummy:"
   ]
  },
  {
   "cell_type": "code",
   "execution_count": 4,
   "metadata": {},
   "outputs": [],
   "source": [
    "def on_curve2(x, y, a, b, prime):\n",
    "\tx = FieldElement(x, prime)\n",
    "\ty = FieldElement(y, prime)\n",
    "\ta = FieldElement(a, prime)\n",
    "\tb = FieldElement(b, prime)\n",
    "\treturn y**2 == x**3 + b"
   ]
  },
  {
   "cell_type": "code",
   "execution_count": 5,
   "metadata": {},
   "outputs": [
    {
     "name": "stdout",
     "output_type": "stream",
     "text": [
      "True\n",
      "True\n",
      "False\n",
      "True\n",
      "False\n"
     ]
    }
   ],
   "source": [
    "print(on_curve2(192, 105, 0, 7, 223))\n",
    "print(on_curve2(17, 56, 0, 7, 223))\n",
    "print(on_curve2(200, 119, 0, 7, 223))\n",
    "print(on_curve2(1, 193, 0, 7, 223))\n",
    "print(on_curve2(42, 99, 0, 7, 223))"
   ]
  },
  {
   "attachments": {},
   "cell_type": "markdown",
   "metadata": {},
   "source": [
    "### Run some tests."
   ]
  },
  {
   "cell_type": "code",
   "execution_count": 6,
   "metadata": {},
   "outputs": [
    {
     "name": "stderr",
     "output_type": "stream",
     "text": [
      ".\n",
      "----------------------------------------------------------------------\n",
      "Ran 1 test in 0.000s\n",
      "\n",
      "OK\n"
     ]
    }
   ],
   "source": [
    "test_name = 'test_on_curve'  # not necessary but helpful for my edification\n",
    "run(ECCTest(test_name))      # run() is in secret_helper.py, which is a bespoke Jimmy thing and not a PyPi thing"
   ]
  },
  {
   "attachments": {},
   "cell_type": "markdown",
   "metadata": {},
   "source": [
    "### Exercise 2: For the curve $y^2 = x^3 + 7$ over $F_{223}$, find some sums."
   ]
  },
  {
   "cell_type": "code",
   "execution_count": 7,
   "metadata": {},
   "outputs": [],
   "source": [
    "def sum_these_mutha_fuckahs(p1_raw, p2_raw):\n",
    "\tprime = 223\n",
    "\ta = FieldElement(0, prime)\n",
    "\tb = FieldElement(7, prime)\n",
    "\tx1 = FieldElement(p1_raw[0], prime) \n",
    "\ty1 = FieldElement(p1_raw[1], prime) \n",
    "\tx2 = FieldElement(p2_raw[0], prime) \n",
    "\ty2 = FieldElement(p2_raw[1], prime) \n",
    "\tp1 = Point(x1, y1, a, b)\n",
    "\tp2 = Point(x2, y2, a, b)\n",
    "\n",
    "\treturn (p1 + p2)"
   ]
  },
  {
   "cell_type": "code",
   "execution_count": 8,
   "metadata": {},
   "outputs": [
    {
     "name": "stdout",
     "output_type": "stream",
     "text": [
      "Point(220,181)_0_7 FieldElement(223)\n",
      "Point(215,68)_0_7 FieldElement(223)\n",
      "Point(47,71)_0_7 FieldElement(223)\n"
     ]
    }
   ],
   "source": [
    "print(sum_these_mutha_fuckahs((170, 142), (60, 139)))\n",
    "print(sum_these_mutha_fuckahs((47, 71), (17, 56)))\n",
    "print(sum_these_mutha_fuckahs((143, 98), (76, 66)))"
   ]
  },
  {
   "attachments": {},
   "cell_type": "markdown",
   "metadata": {},
   "source": [
    "### Exercise 3: Extend `ECCTest` to test for the additions in Exercise 2.  Call this `test_add`."
   ]
  },
  {
   "cell_type": "code",
   "execution_count": 9,
   "metadata": {},
   "outputs": [
    {
     "name": "stderr",
     "output_type": "stream",
     "text": [
      ".\n",
      "----------------------------------------------------------------------\n",
      "Ran 1 test in 0.000s\n",
      "\n",
      "OK\n"
     ]
    }
   ],
   "source": [
    "test_name = 'test_add'\n",
    "run(ECCTest(test_name))"
   ]
  },
  {
   "attachments": {},
   "cell_type": "markdown",
   "metadata": {},
   "source": [
    "### Exercise 4: (Implied brute force) For the curve $y^2 = x^3 + 7$ over $F_{223}$, find:\n",
    "* $2 \\cdot (192, 105)$\n",
    "* $2 \\cdot (143, 98)$\n",
    "* $2 \\cdot (47, 71)$\n",
    "* $4 \\cdot (47, 71)$\n",
    "* $8 \\cdot (47, 71)$\n",
    "* $21 \\cdot (47, 71)$\n",
    "\n"
   ]
  },
  {
   "cell_type": "code",
   "execution_count": 10,
   "metadata": {},
   "outputs": [
    {
     "name": "stdout",
     "output_type": "stream",
     "text": [
      "Point(47,71)_0_7 FieldElement(223) * 1 = Point(47,71)_0_7 FieldElement(223)\n",
      "Point(47,71)_0_7 FieldElement(223) * 2 = Point(36,111)_0_7 FieldElement(223)\n",
      "Point(47,71)_0_7 FieldElement(223) * 3 = Point(15,137)_0_7 FieldElement(223)\n",
      "Point(47,71)_0_7 FieldElement(223) * 4 = Point(194,51)_0_7 FieldElement(223)\n",
      "Point(47,71)_0_7 FieldElement(223) * 5 = Point(126,96)_0_7 FieldElement(223)\n",
      "Point(47,71)_0_7 FieldElement(223) * 6 = Point(139,137)_0_7 FieldElement(223)\n",
      "Point(47,71)_0_7 FieldElement(223) * 7 = Point(92,47)_0_7 FieldElement(223)\n",
      "Point(47,71)_0_7 FieldElement(223) * 8 = Point(116,55)_0_7 FieldElement(223)\n",
      "Point(47,71)_0_7 FieldElement(223) * 9 = Point(69,86)_0_7 FieldElement(223)\n",
      "Point(47,71)_0_7 FieldElement(223) * 10 = Point(154,150)_0_7 FieldElement(223)\n",
      "Point(47,71)_0_7 FieldElement(223) * 11 = Point(154,73)_0_7 FieldElement(223)\n",
      "Point(47,71)_0_7 FieldElement(223) * 12 = Point(69,137)_0_7 FieldElement(223)\n",
      "Point(47,71)_0_7 FieldElement(223) * 13 = Point(116,168)_0_7 FieldElement(223)\n",
      "Point(47,71)_0_7 FieldElement(223) * 14 = Point(92,176)_0_7 FieldElement(223)\n",
      "Point(47,71)_0_7 FieldElement(223) * 15 = Point(139,86)_0_7 FieldElement(223)\n",
      "Point(47,71)_0_7 FieldElement(223) * 16 = Point(126,127)_0_7 FieldElement(223)\n",
      "Point(47,71)_0_7 FieldElement(223) * 17 = Point(194,172)_0_7 FieldElement(223)\n",
      "Point(47,71)_0_7 FieldElement(223) * 18 = Point(15,86)_0_7 FieldElement(223)\n",
      "Point(47,71)_0_7 FieldElement(223) * 19 = Point(36,112)_0_7 FieldElement(223)\n",
      "Point(47,71)_0_7 FieldElement(223) * 20 = Point(47,152)_0_7 FieldElement(223)\n",
      "Point(47,71)_0_7 FieldElement(223) * 21 = Point(infinity)\n"
     ]
    }
   ],
   "source": [
    "# points_raw = [(192, 105), (143, 98), (47, 71), (47, 71), (47, 71), (47, 71)]\n",
    "# scalars = [2, 2, 2, 4, 8, 21]\n",
    "\n",
    "point_raw = (47, 71)\n",
    "x = FieldElement(point_raw[0], 223)\n",
    "y = FieldElement(point_raw[1], 223)\n",
    "a = FieldElement(0, 223)\n",
    "b = FieldElement(7, 223)\n",
    "\n",
    "p = Point(x, y, a, b)\n",
    "\n",
    "dude_sum = p \n",
    "print(f'{p} * 1 = {dude_sum}')\n",
    "\n",
    "for i in range(2, 22):\n",
    "\tdude_sum += p \n",
    "\tprint(f'{p} * {i} = {dude_sum}')\n",
    "\t\n"
   ]
  },
  {
   "attachments": {},
   "cell_type": "markdown",
   "metadata": {},
   "source": [
    "### Exercise 5: For the curve $y^2 = x^3 + 7$ over $F_{223}$, find the order the group generated by $(15,86)$."
   ]
  },
  {
   "attachments": {},
   "cell_type": "markdown",
   "metadata": {},
   "source": [
    "_Order_ is the number of times you can add a point to itself until you hit the _point at infinity_.\n",
    "\n",
    "Using the code above, the _order_ is 7."
   ]
  },
  {
   "attachments": {},
   "cell_type": "markdown",
   "metadata": {},
   "source": [
    "### Testing `__rmul__` method of the `Point` class."
   ]
  },
  {
   "cell_type": "code",
   "execution_count": 11,
   "metadata": {},
   "outputs": [
    {
     "name": "stdout",
     "output_type": "stream",
     "text": [
      "Point(infinity)\n"
     ]
    }
   ],
   "source": [
    "x = FieldElement(15, 223)\n",
    "y = FieldElement(86, 223)\n",
    "a = FieldElement(0, 223)\n",
    "b = FieldElement(7, 223)\n",
    "\n",
    "p = Point(x, y, a, b)\n",
    "\n",
    "print(7 * p)"
   ]
  },
  {
   "attachments": {},
   "cell_type": "markdown",
   "metadata": {},
   "source": [
    "### Bitcoin's cryptographic curve parameters."
   ]
  },
  {
   "cell_type": "code",
   "execution_count": 12,
   "metadata": {},
   "outputs": [],
   "source": [
    "# curve parameters\n",
    "a_raw = 0\n",
    "b_raw = 7\n",
    "prime = 2**256 - 2**32 - 977\n",
    "\n",
    "# generator point\n",
    "g_x_raw = 0x79be667ef9dcbbac55a06295ce870b07029bfcdb2dce28d959f2815b16f81798\n",
    "g_y_raw = 0x483ada7726a3c4655da4fbfc0e1108a8fd17b448a68554199c47d08ffb10d4b8\n",
    "\n",
    "# order of the generator point\n",
    "order   = 0xfffffffffffffffffffffffffffffffebaaedce6af48a03bbfd25e8cd0364141"
   ]
  },
  {
   "attachments": {},
   "cell_type": "markdown",
   "metadata": {},
   "source": [
    "### Check to see if the generator point in actually on the elliptic curve."
   ]
  },
  {
   "cell_type": "code",
   "execution_count": 13,
   "metadata": {},
   "outputs": [
    {
     "data": {
      "text/plain": [
       "True"
      ]
     },
     "execution_count": 13,
     "metadata": {},
     "output_type": "execute_result"
    }
   ],
   "source": [
    "g_y_raw**2 % prime == (g_x_raw**3 + 7) % prime"
   ]
  },
  {
   "attachments": {},
   "cell_type": "markdown",
   "metadata": {},
   "source": [
    "### Verify the generator point's order."
   ]
  },
  {
   "cell_type": "code",
   "execution_count": 14,
   "metadata": {},
   "outputs": [],
   "source": [
    "g_x = FieldElement(g_x_raw, prime)\n",
    "g_y = FieldElement(g_y_raw, prime)\n",
    "a = FieldElement(a_raw, prime)\n",
    "b = FieldElement(b_raw, prime)\n",
    "G = Point(g_x, g_y, a, b)\n",
    "assert order * G == Point(None, None, a, b)"
   ]
  },
  {
   "attachments": {},
   "cell_type": "markdown",
   "metadata": {},
   "source": [
    "### Why does `pow(a,b,c)` work and not the equivalent `a**b % c`?\n",
    "\n",
    "Well, they both work.  It's just that `pow(.)` is built to handle HUGE numbers and the equivalent isn't."
   ]
  },
  {
   "cell_type": "code",
   "execution_count": 15,
   "metadata": {},
   "outputs": [],
   "source": [
    "# num = (self.num * (other.num**(self.prime - 2) % self.prime)) % self.prime  # WTF does this not work???\n",
    "# num = (self.num * pow(other.num, self.prime - 2, self.prime)) % self.prime\n",
    "self_num = 65341020041517633956166170261014086368942546761318486551877808671514674964848\n",
    "other_num = 65109580555943268920148784132969327692962647956182032676156366784255219398828\n",
    "self_prime = 115792089237316195423570985008687907853269984665640564039457584007908834671663"
   ]
  },
  {
   "cell_type": "code",
   "execution_count": 16,
   "metadata": {},
   "outputs": [
    {
     "data": {
      "text/plain": [
       "43067328808798546753189746515450695167556240295409789588423687358347465071811"
      ]
     },
     "execution_count": 16,
     "metadata": {},
     "output_type": "execute_result"
    }
   ],
   "source": [
    "pow(other_num, self_prime - 2, self_prime)"
   ]
  },
  {
   "cell_type": "code",
   "execution_count": 17,
   "metadata": {},
   "outputs": [],
   "source": [
    "# this will take forever\n",
    "# other_num**(self_prime - 2) % self_prime"
   ]
  },
  {
   "attachments": {},
   "cell_type": "markdown",
   "metadata": {},
   "source": [
    "### Another, slicker verification of the order the secp256k1's generator point."
   ]
  },
  {
   "cell_type": "code",
   "execution_count": 18,
   "metadata": {},
   "outputs": [
    {
     "data": {
      "text/plain": [
       "S256Point(infinity)"
      ]
     },
     "execution_count": 18,
     "metadata": {},
     "output_type": "execute_result"
    }
   ],
   "source": [
    "from ecc import G, N\n",
    "N * G"
   ]
  },
  {
   "attachments": {},
   "cell_type": "markdown",
   "metadata": {},
   "source": [
    "### Verifying a Signature"
   ]
  },
  {
   "cell_type": "code",
   "execution_count": 19,
   "metadata": {},
   "outputs": [
    {
     "name": "stdout",
     "output_type": "stream",
     "text": [
      "S256Point(37206a0610995c58074999cb9767b87af4c4978db68c06e8e6e81d282047a7c6, 66d52821073c9151060edaf272a298b9d6b4794755654baa1194fd96d73cb547)\n",
      "<class 'ecc.S256FieldElement'>\n",
      "<class 'int'>\n",
      "24934477526773085068622965895147445253088155263472363298185420205900230535110\n"
     ]
    }
   ],
   "source": [
    "from ecc import S256Point, G, N\n",
    "z  = 0xbc62d4b80d9e36da29c16c5d4d9f11731f36052c72401a76c23c0fb5a9b74423\n",
    "r  = 0x37206a0610995c58074999cb9767b87af4c4978db68c06e8e6e81d282047a7c6\n",
    "s  = 0x8ca63759c1157ebeaec0d03cecca119fc9a75bf8e6d0fa65c841c8e2738cdaec\n",
    "px = 0x04519fac3d910ca7e7138f7013706f619fa8f033e6ec6e09370ea38cee6a7574\n",
    "py = 0x82b51eab8c27c66e26c858a079bcdf4f1ada34cec420cafc7eac1a42216fb6c4\n",
    "point = S256Point(px, py)\n",
    "s_inv = pow(s, N-2, N)  # curtesy of Fermat's Little Theorem\n",
    "u = z * s_inv % N\n",
    "v = r * s_inv % N \n",
    "print(u * G + v * point)\n",
    "print(type((u * G + v * point).x))\n",
    "print(type((u * G + v * point).x.num))\n",
    "print(r)\n",
    "assert (u * G + v * point).x.num == r "
   ]
  },
  {
   "attachments": {},
   "cell_type": "markdown",
   "metadata": {},
   "source": [
    "### Exercise 6: Verify whether these signatures are valid:\n",
    "```\n",
    "P = (0x887387e452b8eacc4acfde10d9aaf7f6d9a0f975aabb10d006e4da568744d06c,\n",
    "     0x61de6d95231cd89026e286df3b6ae4a894a3378e393e93a0f45b666329a0ae34)\n",
    "\n",
    "# signature 1\n",
    "z = 0xec208baa0fc1c19f708a9ca96fdeff3ac3f230bb4a7ba4aede4942ad003c0f60\n",
    "r = 0xac8d1c87e51d0d441be8b3dd5b05c8795b48875dffe00b7ffcfac23010d3a395\n",
    "s = 0x68342ceff8935ededd102dd876ffd6ba72d6a427a3edb13d26eb0781cb423c4\n",
    "\n",
    "# signature 2\n",
    "z = 0x7c076ff316692a3d7eb3c3bb0f8b1488cf72e1afcd929e29307032997a838a3d\n",
    "r = 0xeff69ef2b1bd93a66ed5219add4fb51e11a840f404876325a1e8ffe0529a2c\n",
    "s = 0xc7207fee197d27c618aea621406f6bf5ef6fca38681d82b2f06fddbdce6feab6\n",
    "```"
   ]
  },
  {
   "cell_type": "code",
   "execution_count": 20,
   "metadata": {},
   "outputs": [],
   "source": [
    "P = (0x887387e452b8eacc4acfde10d9aaf7f6d9a0f975aabb10d006e4da568744d06c,\n",
    "     0x61de6d95231cd89026e286df3b6ae4a894a3378e393e93a0f45b666329a0ae34)\n",
    "\n",
    "point = S256Point(P[0], P[1])"
   ]
  },
  {
   "cell_type": "code",
   "execution_count": 21,
   "metadata": {},
   "outputs": [],
   "source": [
    "# signature 1\n",
    "z = 0xec208baa0fc1c19f708a9ca96fdeff3ac3f230bb4a7ba4aede4942ad003c0f60\n",
    "r = 0xac8d1c87e51d0d441be8b3dd5b05c8795b48875dffe00b7ffcfac23010d3a395\n",
    "s = 0x68342ceff8935ededd102dd876ffd6ba72d6a427a3edb13d26eb0781cb423c4\n",
    "\n",
    "s_inv = pow(s, N-2, N)\n",
    "u = z * s_inv % N\n",
    "v = r * s_inv % N\n",
    "assert (u * G + v * point).x.num == r "
   ]
  },
  {
   "cell_type": "code",
   "execution_count": 22,
   "metadata": {},
   "outputs": [],
   "source": [
    "# signature 2\n",
    "z = 0x7c076ff316692a3d7eb3c3bb0f8b1488cf72e1afcd929e29307032997a838a3d\n",
    "r = 0xeff69ef2b1bd93a66ed5219add4fb51e11a840f404876325a1e8ffe0529a2c\n",
    "s = 0xc7207fee197d27c618aea621406f6bf5ef6fca38681d82b2f06fddbdce6feab6\n",
    "\n",
    "s_inv = pow(s, N-2, N)\n",
    "u = z * s_inv % N\n",
    "v = r * s_inv % N\n",
    "assert (u * G + v * point).x.num == r "
   ]
  },
  {
   "cell_type": "code",
   "execution_count": null,
   "metadata": {},
   "outputs": [],
   "source": []
  }
 ],
 "metadata": {
  "kernelspec": {
   "display_name": "venv",
   "language": "python",
   "name": "python3"
  },
  "language_info": {
   "codemirror_mode": {
    "name": "ipython",
    "version": 3
   },
   "file_extension": ".py",
   "mimetype": "text/x-python",
   "name": "python",
   "nbconvert_exporter": "python",
   "pygments_lexer": "ipython3",
   "version": "3.11.0"
  },
  "orig_nbformat": 4,
  "vscode": {
   "interpreter": {
    "hash": "edfa6eede2454c6db2bbf9be87cd6677a731d134901b169be1946e74825be87d"
   }
  }
 },
 "nbformat": 4,
 "nbformat_minor": 2
}
