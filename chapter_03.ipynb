{
 "cells": [
  {
   "cell_type": "code",
   "execution_count": 14,
   "metadata": {},
   "outputs": [],
   "source": [
    "from ecc import FieldElement, Point"
   ]
  },
  {
   "attachments": {},
   "cell_type": "markdown",
   "metadata": {},
   "source": [
    "### Exercise 1: Evaluate whether these points are on the curve $y^2 = x^3 + 7$ over $F_{223}$."
   ]
  },
  {
   "cell_type": "code",
   "execution_count": 15,
   "metadata": {},
   "outputs": [],
   "source": [
    "def on_curve(x, y, a, b, prime):\n",
    "\treturn y**2 % prime == (x**3 + a*x + b) % prime"
   ]
  },
  {
   "cell_type": "code",
   "execution_count": 16,
   "metadata": {},
   "outputs": [
    {
     "name": "stdout",
     "output_type": "stream",
     "text": [
      "True\n",
      "True\n",
      "False\n",
      "True\n",
      "False\n"
     ]
    }
   ],
   "source": [
    "print(on_curve(192, 105, 0, 7, 223))\n",
    "print(on_curve(17, 56, 0, 7, 223))\n",
    "print(on_curve(200, 119, 0, 7, 223))\n",
    "print(on_curve(1, 193, 0, 7, 223))\n",
    "print(on_curve(42, 99, 0, 7, 223))"
   ]
  },
  {
   "attachments": {},
   "cell_type": "markdown",
   "metadata": {},
   "source": [
    "Quaint but you should really use what you've already built, dummy:"
   ]
  },
  {
   "cell_type": "code",
   "execution_count": 17,
   "metadata": {},
   "outputs": [],
   "source": [
    "def on_curve2(x, y, a, b, prime):\n",
    "\tx = FieldElement(x, prime)\n",
    "\ty = FieldElement(y, prime)\n",
    "\ta = FieldElement(a, prime)\n",
    "\tb = FieldElement(b, prime)\n",
    "\treturn y**2 == x**3 + b"
   ]
  },
  {
   "cell_type": "code",
   "execution_count": 18,
   "metadata": {},
   "outputs": [
    {
     "name": "stdout",
     "output_type": "stream",
     "text": [
      "True\n",
      "True\n",
      "False\n",
      "True\n",
      "False\n"
     ]
    }
   ],
   "source": [
    "print(on_curve2(192, 105, 0, 7, 223))\n",
    "print(on_curve2(17, 56, 0, 7, 223))\n",
    "print(on_curve2(200, 119, 0, 7, 223))\n",
    "print(on_curve2(1, 193, 0, 7, 223))\n",
    "print(on_curve2(42, 99, 0, 7, 223))"
   ]
  },
  {
   "attachments": {},
   "cell_type": "markdown",
   "metadata": {},
   "source": [
    "### Exercise 2: For the curve $y^2 = x^3 + 7$ over $F_{223}$, find some sums."
   ]
  },
  {
   "cell_type": "code",
   "execution_count": 19,
   "metadata": {},
   "outputs": [],
   "source": [
    "def sum_these_mutha_fuckahs(p1_raw, p2_raw):\n",
    "\tprime = 223\n",
    "\ta = FieldElement(0, prime)\n",
    "\tb = FieldElement(7, prime)\n",
    "\tx1 = FieldElement(p1_raw[0], prime)\n",
    "\ty1 = FieldElement(p1_raw[1], prime)\n",
    "\tx2 = FieldElement(p2_raw[0], prime)\n",
    "\ty2 = FieldElement(p2_raw[1], prime)\n",
    "\tp1 = Point(x1, y1, a, b)\n",
    "\tp2 = Point(x2, y2, a, b)\n",
    "\t\n",
    "\treturn (p1 + p2)"
   ]
  },
  {
   "cell_type": "code",
   "execution_count": 20,
   "metadata": {},
   "outputs": [
    {
     "name": "stdout",
     "output_type": "stream",
     "text": [
      "The point is (220, 181)_0_7\n",
      "The point is (215, 68)_0_7\n",
      "The point is (47, 71)_0_7\n"
     ]
    }
   ],
   "source": [
    "print(sum_these_mutha_fuckahs((170, 142), (60, 139)))\n",
    "print(sum_these_mutha_fuckahs((47, 71), (17, 56)))\n",
    "print(sum_these_mutha_fuckahs((143, 98), (76, 66)))"
   ]
  },
  {
   "attachments": {},
   "cell_type": "markdown",
   "metadata": {},
   "source": [
    "### Exercise 3: Extend `ECCTest` to test for the additions in Exercise 2.  Call this `test_add`."
   ]
  },
  {
   "attachments": {},
   "cell_type": "markdown",
   "metadata": {},
   "source": [
    "Outdated code in the book has prevented me from successfully running any test.  And I really ain't got time to figure this shit out when there's real stuff to learn. "
   ]
  },
  {
   "attachments": {},
   "cell_type": "markdown",
   "metadata": {},
   "source": [
    "### Exercise 4: For the curve $y^2 = x^3 + 7$ over $F_{223}$, find:\n",
    "* $2 \\cdot (192, 105)$\n",
    "* $2 \\cdot (143, 98)$\n",
    "* $2 \\cdot (47, 71)$\n",
    "* $4 \\cdot (47, 71)$\n",
    "* $8 \\cdot (47, 71)$\n",
    "* $21 \\cdot (47, 71)$\n",
    "\n"
   ]
  },
  {
   "cell_type": "code",
   "execution_count": 35,
   "metadata": {},
   "outputs": [
    {
     "name": "stdout",
     "output_type": "stream",
     "text": [
      "0 2 (192, 105) The point is (192, 105)_0_7\n"
     ]
    },
    {
     "ename": "AttributeError",
     "evalue": "'int' object has no attribute 'num'",
     "output_type": "error",
     "traceback": [
      "\u001b[0;31m---------------------------------------------------------------------------\u001b[0m",
      "\u001b[0;31mAttributeError\u001b[0m                            Traceback (most recent call last)",
      "Cell \u001b[0;32mIn[35], line 15\u001b[0m\n\u001b[1;32m     13\u001b[0m \u001b[39msum\u001b[39m \u001b[39m=\u001b[39m point \n\u001b[1;32m     14\u001b[0m \u001b[39mfor\u001b[39;00m j \u001b[39min\u001b[39;00m \u001b[39mrange\u001b[39m(\u001b[39m1\u001b[39m, scalar):\n\u001b[0;32m---> 15\u001b[0m \t\u001b[39msum\u001b[39;49m \u001b[39m+\u001b[39;49m\u001b[39m=\u001b[39;49m point \n\u001b[1;32m     16\u001b[0m \u001b[39mprint\u001b[39m(\u001b[39m'\u001b[39m\u001b[39m \u001b[39m\u001b[39m'\u001b[39m\u001b[39m*\u001b[39m\u001b[39m4\u001b[39m, dude)\n",
      "File \u001b[0;32m~/repos/programming_bitcoin/ecc.py:107\u001b[0m, in \u001b[0;36mPoint.__add__\u001b[0;34m(self, other)\u001b[0m\n\u001b[1;32m    105\u001b[0m \u001b[39m# Case 4: the points are the same\u001b[39;00m\n\u001b[1;32m    106\u001b[0m \u001b[39mif\u001b[39;00m \u001b[39mself\u001b[39m \u001b[39m==\u001b[39m other:\n\u001b[0;32m--> 107\u001b[0m \t\u001b[39mif\u001b[39;00m \u001b[39mself\u001b[39;49m\u001b[39m.\u001b[39;49my \u001b[39m==\u001b[39;49m \u001b[39m0\u001b[39;49m:  \u001b[39m# the sub-case where the tangent line is vertical --> slope is undefined and will choke trying to divide by 0\u001b[39;00m\n\u001b[1;32m    108\u001b[0m \t\t\u001b[39mreturn\u001b[39;00m \u001b[39mself\u001b[39m\u001b[39m.\u001b[39m\u001b[39m__class__\u001b[39m(\u001b[39mNone\u001b[39;00m, \u001b[39mNone\u001b[39;00m, \u001b[39mself\u001b[39m\u001b[39m.\u001b[39ma, \u001b[39mself\u001b[39m\u001b[39m.\u001b[39mb)  \u001b[39m# by def'n, the point at infinity is the sum\u001b[39;00m\n\u001b[1;32m    109\u001b[0m \tslope \u001b[39m=\u001b[39m (\u001b[39m3\u001b[39m\u001b[39m*\u001b[39m\u001b[39mself\u001b[39m\u001b[39m.\u001b[39mx\u001b[39m*\u001b[39m\u001b[39m*\u001b[39m\u001b[39m2\u001b[39m \u001b[39m+\u001b[39m \u001b[39mself\u001b[39m\u001b[39m.\u001b[39ma)\u001b[39m/\u001b[39m(\u001b[39m2\u001b[39m\u001b[39m*\u001b[39m\u001b[39mself\u001b[39m\u001b[39m.\u001b[39my)\n",
      "File \u001b[0;32m~/repos/programming_bitcoin/ecc.py:17\u001b[0m, in \u001b[0;36mFieldElement.__eq__\u001b[0;34m(self, other)\u001b[0m\n\u001b[1;32m     15\u001b[0m \u001b[39mif\u001b[39;00m other \u001b[39mis\u001b[39;00m \u001b[39mNone\u001b[39;00m:\n\u001b[1;32m     16\u001b[0m \t\u001b[39mreturn\u001b[39;00m \u001b[39mFalse\u001b[39;00m\n\u001b[0;32m---> 17\u001b[0m \u001b[39mreturn\u001b[39;00m \u001b[39mself\u001b[39m\u001b[39m.\u001b[39mnum \u001b[39m==\u001b[39m other\u001b[39m.\u001b[39;49mnum \u001b[39mand\u001b[39;00m \u001b[39mself\u001b[39m\u001b[39m.\u001b[39mprime \u001b[39m==\u001b[39m other\u001b[39m.\u001b[39mprime\n",
      "\u001b[0;31mAttributeError\u001b[0m: 'int' object has no attribute 'num'"
     ]
    }
   ],
   "source": [
    "# OG Doug code\n",
    "points_raw = [(192, 105), (143, 98), (47, 71), (47, 71), (47, 71), (47, 71)]\n",
    "scalars = [2, 2, 2, 4, 8, 21]\n",
    "\n",
    "for i, scalar in enumerate(scalars):\n",
    "\tprime = 223\n",
    "\tx = FieldElement(points_raw[i][0], prime)\n",
    "\ty = FieldElement(points_raw[i][1], prime)\n",
    "\ta = FieldElement(0, prime)\n",
    "\tb = FieldElement(7, prime)\n",
    "\tpoint = Point(x, y, a, b)\n",
    "\tprint(i, scalar, points_raw[i], point)\n",
    "\tsum = point \n",
    "\tfor j in range(1, scalar):\n",
    "\t\tsum += point \n",
    "\tprint(' '*4, sum)\n",
    "\t"
   ]
  },
  {
   "cell_type": "code",
   "execution_count": null,
   "metadata": {},
   "outputs": [],
   "source": [
    "# ChatGPT-ized Doug code"
   ]
  }
 ],
 "metadata": {
  "kernelspec": {
   "display_name": "venv",
   "language": "python",
   "name": "python3"
  },
  "language_info": {
   "codemirror_mode": {
    "name": "ipython",
    "version": 3
   },
   "file_extension": ".py",
   "mimetype": "text/x-python",
   "name": "python",
   "nbconvert_exporter": "python",
   "pygments_lexer": "ipython3",
   "version": "3.11.0"
  },
  "orig_nbformat": 4,
  "vscode": {
   "interpreter": {
    "hash": "edfa6eede2454c6db2bbf9be87cd6677a731d134901b169be1946e74825be87d"
   }
  }
 },
 "nbformat": 4,
 "nbformat_minor": 2
}
