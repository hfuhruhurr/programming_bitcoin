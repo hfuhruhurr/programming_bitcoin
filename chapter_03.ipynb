{
 "cells": [
  {
   "cell_type": "code",
   "execution_count": 1,
   "metadata": {},
   "outputs": [],
   "source": [
    "from ecc import FieldElement, Point"
   ]
  },
  {
   "attachments": {},
   "cell_type": "markdown",
   "metadata": {},
   "source": [
    "### Exercise 1: Evaluate whether these points are on the curve $y^2 = x^3 + 7$ over $F_{223}$."
   ]
  },
  {
   "cell_type": "code",
   "execution_count": 2,
   "metadata": {},
   "outputs": [],
   "source": [
    "def on_curve(x, y, a, b, prime):\n",
    "\treturn y**2 % prime == (x**3 + a*x + b) % prime"
   ]
  },
  {
   "cell_type": "code",
   "execution_count": 3,
   "metadata": {},
   "outputs": [
    {
     "name": "stdout",
     "output_type": "stream",
     "text": [
      "True\n",
      "True\n",
      "False\n",
      "True\n",
      "False\n"
     ]
    }
   ],
   "source": [
    "print(on_curve(192, 105, 0, 7, 223))\n",
    "print(on_curve(17, 56, 0, 7, 223))\n",
    "print(on_curve(200, 119, 0, 7, 223))\n",
    "print(on_curve(1, 193, 0, 7, 223))\n",
    "print(on_curve(42, 99, 0, 7, 223))"
   ]
  },
  {
   "attachments": {},
   "cell_type": "markdown",
   "metadata": {},
   "source": [
    "Quaint but you should really use what you've already built, dummy:"
   ]
  },
  {
   "cell_type": "code",
   "execution_count": 4,
   "metadata": {},
   "outputs": [],
   "source": [
    "def on_curve2(x, y, a, b, prime):\n",
    "\tx = FieldElement(x, prime)\n",
    "\ty = FieldElement(y, prime)\n",
    "\ta = FieldElement(a, prime)\n",
    "\tb = FieldElement(b, prime)\n",
    "\treturn y**2 == x**3 + b"
   ]
  },
  {
   "cell_type": "code",
   "execution_count": 5,
   "metadata": {},
   "outputs": [
    {
     "name": "stdout",
     "output_type": "stream",
     "text": [
      "True\n",
      "True\n",
      "False\n",
      "True\n",
      "False\n"
     ]
    }
   ],
   "source": [
    "print(on_curve2(192, 105, 0, 7, 223))\n",
    "print(on_curve2(17, 56, 0, 7, 223))\n",
    "print(on_curve2(200, 119, 0, 7, 223))\n",
    "print(on_curve2(1, 193, 0, 7, 223))\n",
    "print(on_curve2(42, 99, 0, 7, 223))"
   ]
  },
  {
   "attachments": {},
   "cell_type": "markdown",
   "metadata": {},
   "source": [
    "### Exercise 2: For the curve $y^2 = x^3 + 7$ over $F_{223}$, find some sums."
   ]
  },
  {
   "cell_type": "code",
   "execution_count": 6,
   "metadata": {},
   "outputs": [],
   "source": [
    "def sum_these_mutha_fuckahs(p1_raw, p2_raw):\n",
    "\tprime = 223\n",
    "\ta = FieldElement(0, prime)\n",
    "\tb = FieldElement(7, prime)\n",
    "\tx1 = FieldElement(p1_raw[0], prime)\n",
    "\ty1 = FieldElement(p1_raw[1], prime)\n",
    "\tx2 = FieldElement(p2_raw[0], prime)\n",
    "\ty2 = FieldElement(p2_raw[1], prime)\n",
    "\tp1 = Point(x1, y1, a, b)\n",
    "\tp2 = Point(x2, y2, a, b)\n",
    "\t\n",
    "\treturn (p1 + p2)"
   ]
  },
  {
   "cell_type": "code",
   "execution_count": 8,
   "metadata": {},
   "outputs": [
    {
     "name": "stdout",
     "output_type": "stream",
     "text": [
      "The point is (220, 181)_0_7\n",
      "The point is (215, 68)_0_7\n",
      "The point is (47, 71)_0_7\n"
     ]
    }
   ],
   "source": [
    "print(sum_these_mutha_fuckahs((170, 142), (60, 139)))\n",
    "print(sum_these_mutha_fuckahs((47, 71), (17, 56)))\n",
    "print(sum_these_mutha_fuckahs((143, 98), (76, 66)))"
   ]
  },
  {
   "cell_type": "code",
   "execution_count": null,
   "metadata": {},
   "outputs": [],
   "source": []
  }
 ],
 "metadata": {
  "kernelspec": {
   "display_name": "venv",
   "language": "python",
   "name": "python3"
  },
  "language_info": {
   "codemirror_mode": {
    "name": "ipython",
    "version": 3
   },
   "file_extension": ".py",
   "mimetype": "text/x-python",
   "name": "python",
   "nbconvert_exporter": "python",
   "pygments_lexer": "ipython3",
   "version": "3.11.0"
  },
  "orig_nbformat": 4,
  "vscode": {
   "interpreter": {
    "hash": "edfa6eede2454c6db2bbf9be87cd6677a731d134901b169be1946e74825be87d"
   }
  }
 },
 "nbformat": 4,
 "nbformat_minor": 2
}
