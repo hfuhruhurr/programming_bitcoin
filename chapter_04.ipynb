{
 "cells": [
  {
   "cell_type": "code",
   "execution_count": 1,
   "metadata": {},
   "outputs": [],
   "source": [
    "from ecc import PrivateKey, S256Point, Signature\n",
    "from secret_helper import encode_base58, hash256, int_to_little_endian, little_endian_to_int"
   ]
  },
  {
   "attachments": {},
   "cell_type": "markdown",
   "metadata": {},
   "source": [
    "### Exercise 1: Find the uncompressed SEC format for the public key where the private key secrets are:\n",
    "* 5,000\n",
    "* $2018^5$\n",
    "* 0xdeadbeef12345"
   ]
  },
  {
   "cell_type": "code",
   "execution_count": null,
   "metadata": {},
   "outputs": [],
   "source": [
    "secrets = [5000, 2018**5, 0xdeadbeef12345]\n",
    "for secret in secrets:\n",
    "    print(f'secret: {secret}, public key: {PrivateKey(secret).public_key.sec(compressed=False).hex()}')\n"
   ]
  },
  {
   "attachments": {},
   "cell_type": "markdown",
   "metadata": {},
   "source": [
    "### Exercise 2: Find the compressed SEC format For the public key, where the private key secrets are:\n",
    "* 5,001\n",
    "* $2019^5$\n",
    "* 0xdeadbeef54321"
   ]
  },
  {
   "cell_type": "code",
   "execution_count": null,
   "metadata": {},
   "outputs": [],
   "source": [
    "secrets = [5001, 2019**5, 0xdeadbeef54321]\n",
    "for secret in secrets:\n",
    "    print(f'secret: {secret}, public key: {PrivateKey(secret).public_key.sec(compressed=True).hex()}')"
   ]
  },
  {
   "attachments": {},
   "cell_type": "markdown",
   "metadata": {},
   "source": [
    "### Exercise 3: Find the DER format For a signature whose $r$ and $s$ values are:\n",
    "\n",
    "$r$ = 0x37206a0610995c58074999cb9767b87af4c4978db68c06e8e6e81d282047a7c6\n",
    "\n",
    "$s$ = 0x8ca63759c1157ebeaec0d03cecca119fc9a75bf8e6d0fa65c841c8e2738cdaec\n"
   ]
  },
  {
   "cell_type": "code",
   "execution_count": null,
   "metadata": {},
   "outputs": [],
   "source": [
    "r = 0x37206a0610995c58074999cb9767b87af4c4978db68c06e8e6e81d282047a7c6\n",
    "s = 0x8ca63759c1157ebeaec0d03cecca119fc9a75bf8e6d0fa65c841c8e2738cdaec\n",
    "\n",
    "print(Signature(r, s).der())\n",
    "print(Signature(r, s).der().hex())"
   ]
  },
  {
   "attachments": {},
   "cell_type": "markdown",
   "metadata": {},
   "source": [
    "### Exercise 4: Convert the following hex values to binary and then to Base58:\n",
    "* `7c076ff316692a3d7eb3c3bb0f8b1488cf72e1afcd929e29307032997a838a3d`\n",
    "* `eff69ef2b1bd93a66ed5219add4fb51e11a840f404876325a1e8ffe0529a2c`\n",
    "* `c7207fee197d27c618aea621406f6bf5ef6fca38681d82b2f06fddbdce6feab6`"
   ]
  },
  {
   "cell_type": "code",
   "execution_count": null,
   "metadata": {},
   "outputs": [],
   "source": [
    "hex_strings = [\n",
    "    '7c076ff316692a3d7eb3c3bb0f8b1488cf72e1afcd929e29307032997a838a3d',\n",
    "    'eff69ef2b1bd93a66ed5219add4fb51e11a840f404876325a1e8ffe0529a2c',\n",
    "    'c7207fee197d27c618aea621406f6bf5ef6fca38681d82b2f06fddbdce6feab6'\n",
    "]\n",
    "\n",
    "for h in hex_strings:\n",
    "    print(f'hex: {h}, Base58: {encode_base58(bytes.fromhex(h))}')"
   ]
  },
  {
   "attachments": {},
   "cell_type": "markdown",
   "metadata": {},
   "source": [
    "### Exercise 5: Find the addresses corresponding to the public keys whose private key secrets are:\n",
    "* 5002 (use uncompressed SEC on testnet)\n",
    "* $2020^5$ (use compressed SEC on testnet)\n",
    "* 0x12345deadbeef (use compressed SEC on mainnet)"
   ]
  },
  {
   "cell_type": "code",
   "execution_count": null,
   "metadata": {},
   "outputs": [],
   "source": [
    "secrets = [5002, 2020**5, 0x12345deadbeef]\n",
    "comps = [False, True, True]\n",
    "tests = [True, True, False]\n",
    "\n",
    "for secret, comp, test in zip(secrets, comps, tests):\n",
    "    pubkey = PrivateKey(secret).public_key\n",
    "    print(f'secret: {secret}, pubkey: {pubkey}, pubkey address: {pubkey.address(compressed=comp, testnet=test)}')"
   ]
  },
  {
   "attachments": {},
   "cell_type": "markdown",
   "metadata": {},
   "source": [
    "### Exercise 6: Find the WIF for the private key whose secrets are:\n",
    "* 5003 (compressed, testnet)\n",
    "* $2021^5$ (uncompressed, testnet)\n",
    "* 0x54321deadbeef (compressed, mainnet)"
   ]
  },
  {
   "cell_type": "code",
   "execution_count": null,
   "metadata": {},
   "outputs": [],
   "source": [
    "secrets = [5003, 2021**5, 0x54321deadbeef]\n",
    "comps = [True, False, True]\n",
    "tests = [True, True, False]\n",
    "\n",
    "for secret, comp, test in zip(secrets, comps, tests):\n",
    "    private_key = PrivateKey(secret)\n",
    "    print(f'secret: {secret}, private key: {private_key.hex()}, wif: {private_key.wif(comp, test)}')"
   ]
  },
  {
   "attachments": {},
   "cell_type": "markdown",
   "metadata": {},
   "source": [
    "### Exercise 7: Write a function `little_endian_to_int` that takes Python bytes, interprets those bytes in little endian and returns the number."
   ]
  },
  {
   "cell_type": "code",
   "execution_count": 2,
   "metadata": {},
   "outputs": [
    {
     "data": {
      "text/plain": [
       "238"
      ]
     },
     "execution_count": 2,
     "metadata": {},
     "output_type": "execute_result"
    }
   ],
   "source": [
    "little_endian_to_int(b'\\xee')"
   ]
  },
  {
   "attachments": {},
   "cell_type": "markdown",
   "metadata": {},
   "source": [
    "### Exercise 8: Write a function `int_to_little_endian`, that does the reverse of the last exercise."
   ]
  },
  {
   "cell_type": "code",
   "execution_count": 3,
   "metadata": {},
   "outputs": [
    {
     "data": {
      "text/plain": [
       "b'\\xd2\\x02\\x96I'"
      ]
     },
     "execution_count": 3,
     "metadata": {},
     "output_type": "execute_result"
    }
   ],
   "source": [
    "i = 1234567890\n",
    "int_to_little_endian(i)"
   ]
  },
  {
   "attachments": {},
   "cell_type": "markdown",
   "metadata": {},
   "source": [
    "### Exercise 9: Create a testnet address for yourself using a long secret that only you know, then go to a [testnet faucet](https://faucet.programmingbitcoin.com) and send some testnet coins to that address."
   ]
  },
  {
   "cell_type": "code",
   "execution_count": 6,
   "metadata": {},
   "outputs": [
    {
     "name": "stdout",
     "output_type": "stream",
     "text": [
      "103197801731073551241358880656613673127578076828039870784144030446189408766938\n",
      "e427e2c92ee5909d3b18c777a72204dc8adfd68bb9aa70302eec2ec550b94bda\n",
      "mxfoQzwDPqaTYLE593W68HVx3LC3Hpicac\n"
     ]
    }
   ],
   "source": [
    "passphrase = b'This is my long secret.  There are many like it but this one is mine, brah.'\n",
    "secret = little_endian_to_int(hash256(passphrase))\n",
    "private_key = PrivateKey(secret)\n",
    "\n",
    "print(secret)\n",
    "print(private_key.hex())\n",
    "print(private_key.public_key.address(testnet=True))\n"
   ]
  },
  {
   "attachments": {},
   "cell_type": "markdown",
   "metadata": {},
   "source": [
    "Well, surprise, surprise!  That faucet site doesn't even load.  Thanks, Jimmy!"
   ]
  }
 ],
 "metadata": {
  "kernelspec": {
   "display_name": "venv",
   "language": "python",
   "name": "python3"
  },
  "language_info": {
   "codemirror_mode": {
    "name": "ipython",
    "version": 3
   },
   "file_extension": ".py",
   "mimetype": "text/x-python",
   "name": "python",
   "nbconvert_exporter": "python",
   "pygments_lexer": "ipython3",
   "version": "3.11.0"
  },
  "orig_nbformat": 4
 },
 "nbformat": 4,
 "nbformat_minor": 2
}
