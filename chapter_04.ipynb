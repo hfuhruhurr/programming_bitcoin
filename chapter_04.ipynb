{
 "cells": [
  {
   "cell_type": "code",
   "execution_count": 1,
   "metadata": {},
   "outputs": [],
   "source": [
    "from ecc import PrivateKey, S256Point, Signature\n",
    "from secret_helper import encode_base58"
   ]
  },
  {
   "attachments": {},
   "cell_type": "markdown",
   "metadata": {},
   "source": [
    "### Exercise 1: Find the uncompressed SEC format for the public key where the private key secrets are:\n",
    "* 5,000\n",
    "* $2018^5$\n",
    "* 0xdeadbeef12345"
   ]
  },
  {
   "cell_type": "code",
   "execution_count": 2,
   "metadata": {},
   "outputs": [
    {
     "name": "stdout",
     "output_type": "stream",
     "text": [
      "secret: 5000, public key: 04ffe558e388852f0120e46af2d1b370f85854a8eb0841811ece0e3e03d282d57c315dc72890a4f10a1481c031b03b351b0dc79901ca18a00cf009dbdb157a1d10\n",
      "secret: 33466154331649568, public key: 04027f3da1918455e03c46f659266a1bb5204e959db7364d2f473bdf8f0a13cc9dff87647fd023c13b4a4994f17691895806e1b40b57f4fd22581a4f46851f3b06\n",
      "secret: 3917405024756549, public key: 04d90cd625ee87dd38656dd95cf79f65f60f7273b67d3096e68bd81e4f5342691f842efa762fd59961d0e99803c61edba8b3e3f7dc3a341836f97733aebf987121\n"
     ]
    }
   ],
   "source": [
    "secrets = [5000, 2018**5, 0xdeadbeef12345]\n",
    "for secret in secrets:\n",
    "    print(f'secret: {secret}, public key: {PrivateKey(secret).public_key.sec(compressed=False).hex()}')\n"
   ]
  },
  {
   "attachments": {},
   "cell_type": "markdown",
   "metadata": {},
   "source": [
    "### Exercise 2: Find the compressed SEC format For the public key, where the private key secrets are:\n",
    "* 5,001\n",
    "* $2019^5$\n",
    "* 0xdeadbeef54321"
   ]
  },
  {
   "cell_type": "code",
   "execution_count": 3,
   "metadata": {},
   "outputs": [
    {
     "name": "stdout",
     "output_type": "stream",
     "text": [
      "secret: 5001, public key: 0357a4f368868a8a6d572991e484e664810ff14c05c0fa023275251151fe0e53d1\n",
      "secret: 33549155665686099, public key: 02933ec2d2b111b92737ec12f1c5d20f3233a0ad21cd8b36d0bca7a0cfa5cb8701\n",
      "secret: 3917405025026849, public key: 0296be5b1292f6c856b3c5654e886fc13511462059089cdf9c479623bfcbe77690\n"
     ]
    }
   ],
   "source": [
    "secrets = [5001, 2019**5, 0xdeadbeef54321]\n",
    "for secret in secrets:\n",
    "    print(f'secret: {secret}, public key: {PrivateKey(secret).public_key.sec(compressed=True).hex()}')"
   ]
  },
  {
   "attachments": {},
   "cell_type": "markdown",
   "metadata": {},
   "source": [
    "### Exercise 3: Find the DER format For a signature whose $r$ and $s$ values are:\n",
    "\n",
    "$r$ = 0x37206a0610995c58074999cb9767b87af4c4978db68c06e8e6e81d282047a7c6\n",
    "\n",
    "$s$ = 0x8ca63759c1157ebeaec0d03cecca119fc9a75bf8e6d0fa65c841c8e2738cdaec\n"
   ]
  },
  {
   "cell_type": "code",
   "execution_count": 4,
   "metadata": {},
   "outputs": [
    {
     "name": "stdout",
     "output_type": "stream",
     "text": [
      "b'0E\\x02 7 j\\x06\\x10\\x99\\\\X\\x07I\\x99\\xcb\\x97g\\xb8z\\xf4\\xc4\\x97\\x8d\\xb6\\x8c\\x06\\xe8\\xe6\\xe8\\x1d( G\\xa7\\xc6\\x02!\\x00\\x8c\\xa67Y\\xc1\\x15~\\xbe\\xae\\xc0\\xd0<\\xec\\xca\\x11\\x9f\\xc9\\xa7[\\xf8\\xe6\\xd0\\xfae\\xc8A\\xc8\\xe2s\\x8c\\xda\\xec'\n",
      "3045022037206a0610995c58074999cb9767b87af4c4978db68c06e8e6e81d282047a7c60221008ca63759c1157ebeaec0d03cecca119fc9a75bf8e6d0fa65c841c8e2738cdaec\n"
     ]
    }
   ],
   "source": [
    "r = 0x37206a0610995c58074999cb9767b87af4c4978db68c06e8e6e81d282047a7c6\n",
    "s = 0x8ca63759c1157ebeaec0d03cecca119fc9a75bf8e6d0fa65c841c8e2738cdaec\n",
    "\n",
    "print(Signature(r, s).der())\n",
    "print(Signature(r, s).der().hex())"
   ]
  },
  {
   "attachments": {},
   "cell_type": "markdown",
   "metadata": {},
   "source": [
    "### Exercise 4: Convert the following hex values to binary and then to Base58:\n",
    "* `7c076ff316692a3d7eb3c3bb0f8b1488cf72e1afcd929e29307032997a838a3d`\n",
    "* `eff69ef2b1bd93a66ed5219add4fb51e11a840f404876325a1e8ffe0529a2c`\n",
    "* `c7207fee197d27c618aea621406f6bf5ef6fca38681d82b2f06fddbdce6feab6`"
   ]
  },
  {
   "cell_type": "code",
   "execution_count": 5,
   "metadata": {},
   "outputs": [
    {
     "name": "stdout",
     "output_type": "stream",
     "text": [
      "hex: 7c076ff316692a3d7eb3c3bb0f8b1488cf72e1afcd929e29307032997a838a3d, Base58: 9MA8fRQrT4u8Zj8ZRd6MAiiyaxb2Y1CMpvVkHQu5hVM6\n",
      "hex: eff69ef2b1bd93a66ed5219add4fb51e11a840f404876325a1e8ffe0529a2c, Base58: 4fE3H2E6XMp4SsxtwinF7w9a34ooUrwWe4WsW1458Pd\n",
      "hex: c7207fee197d27c618aea621406f6bf5ef6fca38681d82b2f06fddbdce6feab6, Base58: EQJsjkd6JaGwxrjEhfeqPenqHwrBmPQZjJGNSCHBkcF7\n"
     ]
    }
   ],
   "source": [
    "hex_strings = [\n",
    "    '7c076ff316692a3d7eb3c3bb0f8b1488cf72e1afcd929e29307032997a838a3d',\n",
    "    'eff69ef2b1bd93a66ed5219add4fb51e11a840f404876325a1e8ffe0529a2c',\n",
    "    'c7207fee197d27c618aea621406f6bf5ef6fca38681d82b2f06fddbdce6feab6'\n",
    "]\n",
    "\n",
    "for h in hex_strings:\n",
    "    print(f'hex: {h}, Base58: {encode_base58(bytes.fromhex(h))}')"
   ]
  },
  {
   "attachments": {},
   "cell_type": "markdown",
   "metadata": {},
   "source": [
    "### Exercise 5: Find the addresses corresponding to the public keys whose private key secrets are:\n",
    "* 5002 (use uncompressed SEC on testnet)\n",
    "* $2020^5$ (use compressed SEC on testnet)\n",
    "* 0x12345deadbeef (use compressed SEC on mainnet)"
   ]
  },
  {
   "cell_type": "code",
   "execution_count": 6,
   "metadata": {},
   "outputs": [
    {
     "name": "stdout",
     "output_type": "stream",
     "text": [
      "secret: 5002, pubkey: S256Point(0f85cb0c917647fadfd31e641231d3a01ac9d3d8a680aab2457e0036bf34d37e, 6949b302843a33cdf068589c8330bb5c09c1739420d65b7b33cfab6d10118d97), pubkey address: mmTPbXQFxboEtNRkwfh6K51jvdtHLxGeMA\n",
      "secret: 33632321603200000, pubkey: S256Point(62ce29de29e11d5ec3254ea897df335e24f29aa6d8560a037d15518596c414ab, bf12c763b7da849dc7ec354940959edfffab8a2fc1fbefbea35d90e0e202cb19), pubkey address: mopVkxp8UhXqRYbCYJsbeE1h1fiF64jcoH\n",
      "secret: 320257972354799, pubkey: S256Point(0564faa58724c9326b297b3c0b35fb37a0ed7e3e13d1f1ba63fc762928f2b85b, a4bc7c43337a25bce2a93268a3f95035e17b706bfc707f94fb19fdc9352cc33d), pubkey address: 1F1Pn2y6pDb68E5nYJJeba4TLg2U7B6KF1\n"
     ]
    }
   ],
   "source": [
    "secrets = [5002, 2020**5, 0x12345deadbeef]\n",
    "comps = [False, True, True]\n",
    "tests = [True, True, False]\n",
    "\n",
    "for secret, comp, test in zip(secrets, comps, tests):\n",
    "    pubkey = PrivateKey(secret).public_key\n",
    "    print(f'secret: {secret}, pubkey: {pubkey}, pubkey address: {pubkey.address(compressed=comp, testnet=test)}')"
   ]
  },
  {
   "attachments": {},
   "cell_type": "markdown",
   "metadata": {},
   "source": [
    "### Exercise 6: Find the WIF for the private key whose secrets are:\n",
    "* 5003 (compressed, testnet)\n",
    "* $2021^5$ (uncompressed, testnet)\n",
    "* 0x54321deadbeef (compressed, mainnet)"
   ]
  },
  {
   "cell_type": "code",
   "execution_count": 9,
   "metadata": {},
   "outputs": [
    {
     "name": "stdout",
     "output_type": "stream",
     "text": [
      "secret: 5003, private key: 000000000000000000000000000000000000000000000000000000000000138b, wif: cMahea7zqjxrtgAbB7LSGbcQUr1uX1ojuat9jZodMN8rFTv2sfUK\n",
      "secret: 33715652388894101, private key: 0000000000000000000000000000000000000000000000000077c8350c02b595, wif: 91avARGdfge8E4tZfYLoxeJ5sGBdNJQH4kvjpWAxgzczjbCwxic\n",
      "secret: 1481187632463599, private key: 00000000000000000000000000000000000000000000000000054321deadbeef, wif: KwDiBf89QgGbjEhKnhXJuH7LrciVrZi3qYjgiuQJv1h8Ytr2S53a\n"
     ]
    }
   ],
   "source": [
    "secrets = [5003, 2021**5, 0x54321deadbeef]\n",
    "comps = [True, False, True]\n",
    "tests = [True, True, False]\n",
    "\n",
    "for secret, comp, test in zip(secrets, comps, tests):\n",
    "    private_key = PrivateKey(secret)\n",
    "    print(f'secret: {secret}, private key: {private_key.hex()}, wif: {private_key.wif(comp, test)}')"
   ]
  },
  {
   "cell_type": "code",
   "execution_count": null,
   "metadata": {},
   "outputs": [],
   "source": []
  }
 ],
 "metadata": {
  "kernelspec": {
   "display_name": "venv",
   "language": "python",
   "name": "python3"
  },
  "language_info": {
   "codemirror_mode": {
    "name": "ipython",
    "version": 3
   },
   "file_extension": ".py",
   "mimetype": "text/x-python",
   "name": "python",
   "nbconvert_exporter": "python",
   "pygments_lexer": "ipython3",
   "version": "3.11.0"
  },
  "orig_nbformat": 4
 },
 "nbformat": 4,
 "nbformat_minor": 2
}
